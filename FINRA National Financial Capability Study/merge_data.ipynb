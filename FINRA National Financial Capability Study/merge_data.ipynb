{
 "cells": [
  {
   "cell_type": "code",
   "execution_count": 17,
   "id": "9bb076e4",
   "metadata": {},
   "outputs": [
    {
     "name": "stderr",
     "output_type": "stream",
     "text": [
      "<>:3: SyntaxWarning: invalid escape sequence '\\B'\n",
      "<>:4: SyntaxWarning: invalid escape sequence '\\B'\n",
      "<>:5: SyntaxWarning: invalid escape sequence '\\B'\n",
      "<>:3: SyntaxWarning: invalid escape sequence '\\B'\n",
      "<>:4: SyntaxWarning: invalid escape sequence '\\B'\n",
      "<>:5: SyntaxWarning: invalid escape sequence '\\B'\n",
      "C:\\Users\\Academic\\AppData\\Local\\Temp\\ipykernel_72816\\1759898984.py:3: SyntaxWarning: invalid escape sequence '\\B'\n",
      "  df2009 = pd.read_csv(\"D:\\Boston University\\Intro to Data Analytics (BA780)\\\\ba780-fall25-a08\\FINRA National Financial Capability Study\\\\2009-SxS-v2\\\\2009 Cleaned.csv\", na_values=[\"\", \" \", \"NA\", \"N/A\", \"null\", \".\", \"na\"])\n",
      "C:\\Users\\Academic\\AppData\\Local\\Temp\\ipykernel_72816\\1759898984.py:4: SyntaxWarning: invalid escape sequence '\\B'\n",
      "  df2012 = pd.read_csv(\"D:\\Boston University\\Intro to Data Analytics (BA780)\\\\ba780-fall25-a08\\FINRA National Financial Capability Study\\\\2012-SxS-Data-and-Data-Info\\\\2012 Cleaned.csv\", na_values=[\"\", \" \", \"NA\", \"N/A\", \"null\", \".\", \"na\"])\n",
      "C:\\Users\\Academic\\AppData\\Local\\Temp\\ipykernel_72816\\1759898984.py:5: SyntaxWarning: invalid escape sequence '\\B'\n",
      "  df2024 = pd.read_csv(\"D:\\Boston University\\Intro to Data Analytics (BA780)\\\\ba780-fall25-a08\\FINRA National Financial Capability Study\\\\2024-SxS-Data-and-Data-Info\\\\2024 Cleaned.csv\", na_values=[\"\", \" \", \"NA\", \"N/A\", \"null\", \".\", \"na\"])\n"
     ]
    },
    {
     "name": "stdout",
     "output_type": "stream",
     "text": [
      "Merged States created successfully.\n"
     ]
    }
   ],
   "source": [
    "import pandas as pd\n",
    "\n",
    "df2009 = pd.read_csv(\"D:\\Boston University\\Intro to Data Analytics (BA780)\\\\ba780-fall25-a08\\FINRA National Financial Capability Study\\\\2009-SxS-v2\\\\2009 Cleaned.csv\", na_values=[\"\", \" \", \"NA\", \"N/A\", \"null\", \".\", \"na\"])\n",
    "df2012 = pd.read_csv(\"D:\\Boston University\\Intro to Data Analytics (BA780)\\\\ba780-fall25-a08\\FINRA National Financial Capability Study\\\\2012-SxS-Data-and-Data-Info\\\\2012 Cleaned.csv\", na_values=[\"\", \" \", \"NA\", \"N/A\", \"null\", \".\", \"na\"])\n",
    "df2024 = pd.read_csv(\"D:\\Boston University\\Intro to Data Analytics (BA780)\\\\ba780-fall25-a08\\FINRA National Financial Capability Study\\\\2024-SxS-Data-and-Data-Info\\\\2024 Cleaned.csv\", na_values=[\"\", \" \", \"NA\", \"N/A\", \"null\", \".\", \"na\"])\n",
    "\n",
    "merged_states = pd.concat([df2009, df2012, df2024], ignore_index=True)\n",
    "# merged_states.to_csv(\"Merged States.csv\", index=False)\n",
    "print(\"Merged States created successfully.\")"
   ]
  },
  {
   "cell_type": "code",
   "execution_count": 18,
   "id": "d11fd90e",
   "metadata": {},
   "outputs": [
    {
     "name": "stdout",
     "output_type": "stream",
     "text": [
      "Merged Investors created successfully.\n"
     ]
    },
    {
     "name": "stderr",
     "output_type": "stream",
     "text": [
      "<>:1: SyntaxWarning: invalid escape sequence '\\B'\n",
      "<>:2: SyntaxWarning: invalid escape sequence '\\B'\n",
      "<>:3: SyntaxWarning: invalid escape sequence '\\B'\n",
      "<>:1: SyntaxWarning: invalid escape sequence '\\B'\n",
      "<>:2: SyntaxWarning: invalid escape sequence '\\B'\n",
      "<>:3: SyntaxWarning: invalid escape sequence '\\B'\n",
      "C:\\Users\\Academic\\AppData\\Local\\Temp\\ipykernel_72816\\2137720023.py:1: SyntaxWarning: invalid escape sequence '\\B'\n",
      "  df2015 = pd.read_csv(\"D:\\Boston University\\Intro to Data Analytics (BA780)\\\\ba780-fall25-a08\\FINRA National Financial Capability Study\\\\2015-Inv-Data-and-Data-Info\\\\2015 Cleaned.csv\", na_values=[\"\", \" \", \"NA\", \"N/A\", \"null\", \".\", \"na\"])\n",
      "C:\\Users\\Academic\\AppData\\Local\\Temp\\ipykernel_72816\\2137720023.py:2: SyntaxWarning: invalid escape sequence '\\B'\n",
      "  df2018 = pd.read_csv(\"D:\\Boston University\\Intro to Data Analytics (BA780)\\\\ba780-fall25-a08\\FINRA National Financial Capability Study\\\\2018-Inv-Data-and-Data-Info\\\\2018 Cleaned.csv\", na_values=[\"\", \" \", \"NA\", \"N/A\", \"null\", \".\", \"na\"])\n",
      "C:\\Users\\Academic\\AppData\\Local\\Temp\\ipykernel_72816\\2137720023.py:3: SyntaxWarning: invalid escape sequence '\\B'\n",
      "  df2021 = pd.read_csv(\"D:\\Boston University\\Intro to Data Analytics (BA780)\\\\ba780-fall25-a08\\FINRA National Financial Capability Study\\\\2021-Inv-Data-and-Data-Info\\\\2021 Cleaned.csv\", na_values=[\"\", \" \", \"NA\", \"N/A\", \"null\", \".\", \"na\"])\n"
     ]
    }
   ],
   "source": [
    "df2015 = pd.read_csv(\"D:\\Boston University\\Intro to Data Analytics (BA780)\\\\ba780-fall25-a08\\FINRA National Financial Capability Study\\\\2015-Inv-Data-and-Data-Info\\\\2015 Cleaned.csv\", na_values=[\"\", \" \", \"NA\", \"N/A\", \"null\", \".\", \"na\"])\n",
    "df2018 = pd.read_csv(\"D:\\Boston University\\Intro to Data Analytics (BA780)\\\\ba780-fall25-a08\\FINRA National Financial Capability Study\\\\2018-Inv-Data-and-Data-Info\\\\2018 Cleaned.csv\", na_values=[\"\", \" \", \"NA\", \"N/A\", \"null\", \".\", \"na\"])\n",
    "df2021 = pd.read_csv(\"D:\\Boston University\\Intro to Data Analytics (BA780)\\\\ba780-fall25-a08\\FINRA National Financial Capability Study\\\\2021-Inv-Data-and-Data-Info\\\\2021 Cleaned.csv\", na_values=[\"\", \" \", \"NA\", \"N/A\", \"null\", \".\", \"na\"])\n",
    "\n",
    "merged_investors = pd.concat([df2015, df2018, df2021], ignore_index=True)\n",
    "# merged_investors.to_csv(\"Merged Investors.csv\", index=False)\n",
    "print(\"Merged Investors created successfully.\")"
   ]
  }
 ],
 "metadata": {
  "kernelspec": {
   "display_name": "Python 3",
   "language": "python",
   "name": "python3"
  },
  "language_info": {
   "codemirror_mode": {
    "name": "ipython",
    "version": 3
   },
   "file_extension": ".py",
   "mimetype": "text/x-python",
   "name": "python",
   "nbconvert_exporter": "python",
   "pygments_lexer": "ipython3",
   "version": "3.12.6"
  }
 },
 "nbformat": 4,
 "nbformat_minor": 5
}
