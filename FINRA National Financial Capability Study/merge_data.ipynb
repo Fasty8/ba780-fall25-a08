{
 "cells": [
  {
   "cell_type": "code",
   "execution_count": null,
   "id": "9bb076e4",
   "metadata": {},
   "outputs": [
    {
     "name": "stdout",
     "output_type": "stream",
     "text": [
      "Merged States created successfully.\n"
     ]
    }
   ],
   "source": [
    "import pandas as pd\n",
    "\n",
    "df2009 = pd.read_csv('https://raw.githubusercontent.com/Fasty8/ba780-fall25-a08/refs/heads/cleaning/FINRA%20National%20Financial%20Capability%20Study/2009-SxS-v2/2009%20Cleaned.csv')\n",
    "df2012 = pd.read_csv('https://raw.githubusercontent.com/Fasty8/ba780-fall25-a08/refs/heads/cleaning/FINRA%20National%20Financial%20Capability%20Study/2012-SxS-Data-and-Data-Info/2012%20Cleaned.csv')\n",
    "df2024 = pd.read_csv('https://raw.githubusercontent.com/Fasty8/ba780-fall25-a08/refs/heads/cleaning/FINRA%20National%20Financial%20Capability%20Study/2024-SxS-Data-and-Data-Info/2024%20Cleaned.csv')\n",
    "\n",
    "merged_states = pd.concat([df2009, df2012, df2024], ignore_index=True)\n",
    "merged_states.to_csv(\"Merged States.csv\", index=False)\n",
    "print(\"Merged States created successfully.\")"
   ]
  },
  {
   "cell_type": "code",
   "execution_count": 16,
   "id": "d11fd90e",
   "metadata": {},
   "outputs": [
    {
     "name": "stdout",
     "output_type": "stream",
     "text": [
      "Merged Investors created successfully.\n"
     ]
    }
   ],
   "source": [
    "df2015 = pd.read_csv('https://raw.githubusercontent.com/Fasty8/ba780-fall25-a08/refs/heads/cleaning/FINRA%20National%20Financial%20Capability%20Study/2015-Inv-Data-and-Data-Info/2015%20Cleaned.csv')\n",
    "df2018 = pd.read_csv('https://raw.githubusercontent.com/Fasty8/ba780-fall25-a08/refs/heads/cleaning/FINRA%20National%20Financial%20Capability%20Study/2018-Inv-Data-and-Data-Info/2018%20Cleaned.csv')\n",
    "df2021 = pd.read_csv('https://raw.githubusercontent.com/Fasty8/ba780-fall25-a08/refs/heads/cleaning/FINRA%20National%20Financial%20Capability%20Study/2021-Inv-Data-and-Data-Info/2021%20Cleaned.csv')\n",
    "\n",
    "merged_investors = pd.concat([df2015, df2018, df2021], ignore_index=True)\n",
    "merged_investors.to_csv(\"Merged Investors.csv\", index=False)\n",
    "print(\"Merged Investors created successfully.\")"
   ]
  }
 ],
 "metadata": {
  "kernelspec": {
   "display_name": "base",
   "language": "python",
   "name": "python3"
  },
  "language_info": {
   "codemirror_mode": {
    "name": "ipython",
    "version": 3
   },
   "file_extension": ".py",
   "mimetype": "text/x-python",
   "name": "python",
   "nbconvert_exporter": "python",
   "pygments_lexer": "ipython3",
   "version": "3.13.5"
  }
 },
 "nbformat": 4,
 "nbformat_minor": 5
}
