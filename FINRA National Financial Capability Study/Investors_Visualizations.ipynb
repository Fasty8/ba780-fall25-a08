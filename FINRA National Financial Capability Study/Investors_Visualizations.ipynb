{
 "cells": [
  {
   "cell_type": "code",
   "execution_count": 4,
   "id": "60af80ab",
   "metadata": {},
   "outputs": [
    {
     "name": "stderr",
     "output_type": "stream",
     "text": [
      "/var/folders/jz/k_vbt06j575b45vdglnjz_680000gn/T/ipykernel_31198/1601862499.py:6: DtypeWarning: Columns (8,9,11,16,18,20,21,22,23,24,25,26,27,28,30,31,32,33,34,35,37,39,40,41,42,47,50,51,52,53,58,59,60,61,62,63,64,65,66,67,68,69,70,71,72,73,74,75,76,77,78,79,80,81,100,101,110,111,122,123,124,125,126,130,132,133,134,135,136,147,150,152,155,158,159,160,161,162,163,173,178,183,184,185,186,187,188,191,211,221,232,233,234,235,236,238,239,240,241,242,243,244,245,277,278,279,280,281,282,284,300) have mixed types. Specify dtype option on import or set low_memory=False.\n",
      "  df = pd.read_csv(\"Merged investors.csv\")\n"
     ]
    }
   ],
   "source": [
    "#read merged investors_csv\n",
    "import pandas as pd\n",
    "import matplotlib.pyplot as plt\n",
    "import seaborn as sns\n",
    "\n",
    "df = pd.read_csv(\"Merged investors.csv\")"
   ]
  },
  {
   "cell_type": "code",
   "execution_count": null,
   "id": "3711e87d",
   "metadata": {},
   "outputs": [],
   "source": [
    "#1.How has financial literacy (FinLit_Level) changed from 2015 to 2021(2015,2018,2021)?\n"
   ]
  },
  {
   "cell_type": "code",
   "execution_count": null,
   "id": "59286943",
   "metadata": {},
   "outputs": [],
   "source": [
    "#2.Does education level affect investment confidence?"
   ]
  },
  {
   "cell_type": "code",
   "execution_count": null,
   "id": "0a15a9ba",
   "metadata": {},
   "outputs": [],
   "source": [
    "#3.What is the relationship between risk tolerance and portfolio composition?\n"
   ]
  },
  {
   "cell_type": "code",
   "execution_count": null,
   "id": "d14abe42",
   "metadata": {},
   "outputs": [],
   "source": [
    "#4.How do age groups differ in their investment confidence and comfort?"
   ]
  },
  {
   "cell_type": "code",
   "execution_count": null,
   "id": "b4bd703d",
   "metadata": {},
   "outputs": [],
   "source": [
    "#5.Which information sources are most used by confident investors?"
   ]
  },
  {
   "cell_type": "code",
   "execution_count": null,
   "id": "e686e91c",
   "metadata": {},
   "outputs": [],
   "source": [
    "#6.Do investors who read financial statements or disclosures report higher fraud-avoidance confidence?"
   ]
  },
  {
   "cell_type": "code",
   "execution_count": null,
   "id": "776e03b0",
   "metadata": {},
   "outputs": [],
   "source": [
    "#7.How do market confidence and risk perception relate to long-term investment behavior?"
   ]
  },
  {
   "cell_type": "code",
   "execution_count": null,
   "id": "d2314277",
   "metadata": {},
   "outputs": [],
   "source": [
    "#8.Which demographic groups have the highest financial knowledge accuracy?"
   ]
  }
 ],
 "metadata": {
  "kernelspec": {
   "display_name": "base",
   "language": "python",
   "name": "python3"
  },
  "language_info": {
   "codemirror_mode": {
    "name": "ipython",
    "version": 3
   },
   "file_extension": ".py",
   "mimetype": "text/x-python",
   "name": "python",
   "nbconvert_exporter": "python",
   "pygments_lexer": "ipython3",
   "version": "3.13.5"
  }
 },
 "nbformat": 4,
 "nbformat_minor": 5
}
