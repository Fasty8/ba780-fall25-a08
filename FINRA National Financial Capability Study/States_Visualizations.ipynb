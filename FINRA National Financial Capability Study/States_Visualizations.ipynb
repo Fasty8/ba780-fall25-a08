{
 "cells": [
  {
   "cell_type": "code",
   "execution_count": null,
   "id": "e4681045",
   "metadata": {},
   "outputs": [],
   "source": [
    "#read merged states_csv"
   ]
  },
  {
   "cell_type": "code",
   "execution_count": null,
   "id": "b8c63db3",
   "metadata": {},
   "outputs": [],
   "source": [
    "#9.How has overall financial literacy (FinLit_Level / Total_Score) changed from 2009 → 2012 → 2024？"
   ]
  },
  {
   "cell_type": "code",
   "execution_count": null,
   "id": "2de8de57",
   "metadata": {},
   "outputs": [],
   "source": [
    "#10.Did households with dependents plan finances differently over time?"
   ]
  },
  {
   "cell_type": "code",
   "execution_count": null,
   "id": "23bc2ecb",
   "metadata": {},
   "outputs": [],
   "source": [
    "#11.Which income groups improved most in emergency readiness?"
   ]
  },
  {
   "cell_type": "code",
   "execution_count": null,
   "id": "24ee2fc4",
   "metadata": {},
   "outputs": [],
   "source": [
    "#12.How do credit behaviors evolve—e.g., late payments, overdrafts, credit-card management?"
   ]
  },
  {
   "cell_type": "code",
   "execution_count": null,
   "id": "fcd52ec8",
   "metadata": {},
   "outputs": [],
   "source": [
    "#13.What is the relationship between income drop experience and financial comfort?"
   ]
  },
  {
   "cell_type": "code",
   "execution_count": null,
   "id": "1fa3e56e",
   "metadata": {},
   "outputs": [],
   "source": [
    "#14.Do regional differences (Census Region / State) persist in financial well-being?"
   ]
  },
  {
   "cell_type": "code",
   "execution_count": null,
   "id": "f7ea1dbf",
   "metadata": {},
   "outputs": [],
   "source": [
    "#15.How does education level relate to financial confidence and behavior across years?"
   ]
  }
 ],
 "metadata": {
  "language_info": {
   "name": "python"
  }
 },
 "nbformat": 4,
 "nbformat_minor": 5
}
