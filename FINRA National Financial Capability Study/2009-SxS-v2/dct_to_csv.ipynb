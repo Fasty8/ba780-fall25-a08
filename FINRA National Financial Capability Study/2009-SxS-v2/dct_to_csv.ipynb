{
 "cells": [
  {
   "cell_type": "code",
   "execution_count": 46,
   "id": "4c0e521f",
   "metadata": {},
   "outputs": [
    {
     "name": "stdout",
     "output_type": "stream",
     "text": [
      "{1: 'Alabama', 2: 'Alaska', 3: 'Arizona', 4: 'Arkansas', 5: 'California', 6: 'Colorado', 7: 'Connecticut', 8: 'Delaware', 9: 'District of Columbia', 10: 'Florida', 11: 'Georgia', 12: 'Hawaii', 13: 'Idaho', 14: 'Illinois', 15: 'Indiana', 16: 'Iowa', 17: 'Kansas', 18: 'Kentucky', 19: 'Louisiana', 20: 'Maine', 21: 'Maryland', 22: 'Massachusetts', 23: 'Michigan', 24: 'Minnesota', 25: 'Mississippi', 26: 'Missouri', 27: 'Montana', 28: 'Nebraska', 29: 'Nevada', 30: 'New Hampshire', 31: 'New Jersey', 32: 'New Mexico', 33: 'New York', 34: 'North Carolina', 35: 'North Dakota', 36: 'Ohio', 37: 'Oklahoma', 38: 'Oregon', 39: 'Pennsylvania', 40: 'Rhode Island', 41: 'South Carolina', 42: 'South Dakota', 43: 'Tennessee', 44: 'Texas', 45: 'Utah', 46: 'Vermont', 47: 'Virginia', 48: 'Washington', 49: 'West Virginia', 50: 'Wisconsin', 51: 'Wyoming'}\n"
     ]
    }
   ],
   "source": [
    "states_dict = {\n",
    "    1: \"Alabama\",\n",
    "    2: \"Alaska\",\n",
    "    3: \"Arizona\",\n",
    "    4: \"Arkansas\",\n",
    "    5: \"California\",\n",
    "    6: \"Colorado\",\n",
    "    7: \"Connecticut\",\n",
    "    8: \"Delaware\",\n",
    "    9: \"District of Columbia\",\n",
    "    10: \"Florida\",\n",
    "    11: \"Georgia\",\n",
    "    12: \"Hawaii\",\n",
    "    13: \"Idaho\",\n",
    "    14: \"Illinois\",\n",
    "    15: \"Indiana\",\n",
    "    16: \"Iowa\",\n",
    "    17: \"Kansas\",\n",
    "    18: \"Kentucky\",\n",
    "    19: \"Louisiana\",\n",
    "    20: \"Maine\",\n",
    "    21: \"Maryland\",\n",
    "    22: \"Massachusetts\",\n",
    "    23: \"Michigan\",\n",
    "    24: \"Minnesota\",\n",
    "    25: \"Mississippi\",\n",
    "    26: \"Missouri\",\n",
    "    27: \"Montana\",\n",
    "    28: \"Nebraska\",\n",
    "    29: \"Nevada\",\n",
    "    30: \"New Hampshire\",\n",
    "    31: \"New Jersey\",\n",
    "    32: \"New Mexico\",\n",
    "    33: \"New York\",\n",
    "    34: \"North Carolina\",\n",
    "    35: \"North Dakota\",\n",
    "    36: \"Ohio\",\n",
    "    37: \"Oklahoma\",\n",
    "    38: \"Oregon\",\n",
    "    39: \"Pennsylvania\",\n",
    "    40: \"Rhode Island\",\n",
    "    41: \"South Carolina\",\n",
    "    42: \"South Dakota\",\n",
    "    43: \"Tennessee\",\n",
    "    44: \"Texas\",\n",
    "    45: \"Utah\",\n",
    "    46: \"Vermont\",\n",
    "    47: \"Virginia\",\n",
    "    48: \"Washington\",\n",
    "    49: \"West Virginia\",\n",
    "    50: \"Wisconsin\",\n",
    "    51: \"Wyoming\"\n",
    "}\n",
    "\n",
    "print(states_dict)"
   ]
  },
  {
   "cell_type": "code",
   "execution_count": 47,
   "id": "aec2b11e",
   "metadata": {},
   "outputs": [
    {
     "name": "stdout",
     "output_type": "stream",
     "text": [
      "0    43\n",
      "1    44\n",
      "2    44\n",
      "3    33\n",
      "4     5\n",
      "5     5\n",
      "6    15\n",
      "7    39\n",
      "8    33\n",
      "9    33\n",
      "Name: STATEQ, dtype: int64\n",
      "(------------------------------)\n",
      "0       Tennessee\n",
      "1           Texas\n",
      "2           Texas\n",
      "3        New York\n",
      "4      California\n",
      "5      California\n",
      "6         Indiana\n",
      "7    Pennsylvania\n",
      "8        New York\n",
      "9        New York\n",
      "Name: STATEQ, dtype: object\n"
     ]
    }
   ],
   "source": [
    "import pandas as pd\n",
    "import numpy as np\n",
    "import matplotlib.pyplot as plt\n",
    "import seaborn as sns\n",
    "\n",
    "df = pd.read_csv(r\"D:\\Boston University\\Intro to Data Analytics (BA780)\\ba780-fall25-a08\\FINRA National Financial Capability Study\\2009-SxS-v2\\NFCS 2009 State Data 220712 v2 copy.csv\")\n",
    "# df = pd.read_csv(r\"ba780-fall25-a08\\FINRA National Financial Capability Study\\2009-SxS-v2\\NFCS 2009 State Data 220712 v2 copy.csv\")\n",
    "print(df[\"STATEQ\"].head(10))\n",
    "print(\"(------------------------------)\")\n",
    "df[\"STATEQ\"] = df[\"STATEQ\"].map(states_dict)\n",
    "print(df[\"STATEQ\"].head(10))\n"
   ]
  },
  {
   "cell_type": "code",
   "execution_count": 48,
   "id": "893d3138",
   "metadata": {},
   "outputs": [],
   "source": [
    "divisions_dict = {\n",
    "    1: \"New England\",\n",
    "    2: \"Middle Atlantic\",\n",
    "    3: \"East North Central\",\n",
    "    4: \"West North Central\",\n",
    "    5: \"South Atlantic\",\n",
    "    6: \"East South Central\",\n",
    "    7: \"West South Central\",\n",
    "    8: \"Mountain\",\n",
    "    9: \"Pacific\"\n",
    "}\n"
   ]
  },
  {
   "cell_type": "code",
   "execution_count": 49,
   "id": "ebedd3fe",
   "metadata": {},
   "outputs": [
    {
     "name": "stdout",
     "output_type": "stream",
     "text": [
      "0    6\n",
      "1    7\n",
      "2    7\n",
      "3    2\n",
      "4    9\n",
      "5    9\n",
      "6    3\n",
      "7    2\n",
      "8    2\n",
      "9    2\n",
      "Name: CENSUSDIV, dtype: int64\n",
      "(------------------------------)\n",
      "0    East South Central\n",
      "1    West South Central\n",
      "2    West South Central\n",
      "3       Middle Atlantic\n",
      "4               Pacific\n",
      "5               Pacific\n",
      "6    East North Central\n",
      "7       Middle Atlantic\n",
      "8       Middle Atlantic\n",
      "9       Middle Atlantic\n",
      "Name: CENSUSDIV, dtype: object\n"
     ]
    }
   ],
   "source": [
    "print(df[\"CENSUSDIV\"].head(10))\n",
    "print(\"(------------------------------)\")\n",
    "df[\"CENSUSDIV\"] = df[\"CENSUSDIV\"].map(divisions_dict)\n",
    "print(df[\"CENSUSDIV\"].head(10))"
   ]
  },
  {
   "cell_type": "code",
   "execution_count": 50,
   "id": "7131993d",
   "metadata": {},
   "outputs": [],
   "source": [
    "regions_dict = {\n",
    "    1: \"Northeast\",\n",
    "    2: \"Midwest\",\n",
    "    3: \"South\",\n",
    "    4: \"West\"\n",
    "}"
   ]
  },
  {
   "cell_type": "code",
   "execution_count": 51,
   "id": "aa2cdff5",
   "metadata": {},
   "outputs": [
    {
     "name": "stdout",
     "output_type": "stream",
     "text": [
      "0    3\n",
      "1    3\n",
      "2    3\n",
      "3    1\n",
      "4    4\n",
      "5    4\n",
      "6    2\n",
      "7    1\n",
      "8    1\n",
      "9    1\n",
      "Name: CENSUSREG, dtype: int64\n",
      "(------------------------------)\n",
      "0        South\n",
      "1        South\n",
      "2        South\n",
      "3    Northeast\n",
      "4         West\n",
      "5         West\n",
      "6      Midwest\n",
      "7    Northeast\n",
      "8    Northeast\n",
      "9    Northeast\n",
      "Name: CENSUSREG, dtype: object\n"
     ]
    }
   ],
   "source": [
    "print(df[\"CENSUSREG\"].head(10))\n",
    "print(\"(------------------------------)\")\n",
    "df[\"CENSUSREG\"] = df[\"CENSUSREG\"].map(regions_dict)\n",
    "print(df[\"CENSUSREG\"].head(10))"
   ]
  },
  {
   "cell_type": "code",
   "execution_count": 52,
   "id": "09eb4e0e",
   "metadata": {},
   "outputs": [],
   "source": [
    "gender_dict = {\n",
    "    1: \"Male\",\n",
    "    2: \"Female\"\n",
    "}"
   ]
  },
  {
   "cell_type": "code",
   "execution_count": 53,
   "id": "d8122a17",
   "metadata": {},
   "outputs": [
    {
     "name": "stdout",
     "output_type": "stream",
     "text": [
      "0    2\n",
      "1    1\n",
      "2    1\n",
      "3    2\n",
      "4    1\n",
      "5    2\n",
      "6    2\n",
      "7    1\n",
      "8    2\n",
      "9    1\n",
      "Name: A3, dtype: int64\n",
      "(------------------------------)\n",
      "0    Female\n",
      "1      Male\n",
      "2      Male\n",
      "3    Female\n",
      "4      Male\n",
      "5    Female\n",
      "6    Female\n",
      "7      Male\n",
      "8    Female\n",
      "9      Male\n",
      "Name: A3, dtype: object\n"
     ]
    }
   ],
   "source": [
    "print(df[\"A3\"].head(10))\n",
    "print(\"(------------------------------)\")\n",
    "df[\"A3\"] = df[\"A3\"].map(gender_dict)\n",
    "print(df[\"A3\"].head(10))"
   ]
  },
  {
   "cell_type": "code",
   "execution_count": 54,
   "id": "888c7fc8",
   "metadata": {},
   "outputs": [],
   "source": [
    "age_dict = {1:\"18-24\",2:\"25-34\",3:\"35-44\",4:\"45-54\",5:\"55-64\",6:\"65+\"}"
   ]
  },
  {
   "cell_type": "code",
   "execution_count": 55,
   "id": "6561bbe3",
   "metadata": {},
   "outputs": [
    {
     "name": "stdout",
     "output_type": "stream",
     "text": [
      "0    2\n",
      "1    5\n",
      "2    5\n",
      "3    3\n",
      "4    6\n",
      "5    3\n",
      "6    4\n",
      "7    4\n",
      "8    3\n",
      "9    3\n",
      "Name: A3Ar_w, dtype: int64\n",
      "(------------------------------)\n",
      "0    25-34\n",
      "1    55-64\n",
      "2    55-64\n",
      "3    35-44\n",
      "4      65+\n",
      "5    35-44\n",
      "6    45-54\n",
      "7    45-54\n",
      "8    35-44\n",
      "9    35-44\n",
      "Name: A3Ar_w, dtype: object\n"
     ]
    }
   ],
   "source": [
    "print(df[\"A3Ar_w\"].head(10))\n",
    "print(\"(------------------------------)\")\n",
    "df[\"A3Ar_w\"] = df[\"A3Ar_w\"].map(age_dict)\n",
    "print(df[\"A3Ar_w\"].head(10))"
   ]
  },
  {
   "cell_type": "code",
   "execution_count": 56,
   "id": "b84d2710",
   "metadata": {},
   "outputs": [],
   "source": [
    "gender_age_dict = {\n",
    "    1:\"Male 18-24\",2:\"Male 25-34\",3:\"Male 35-44\",4:\"Male 45-54\",5:\"Male 55-64\",6:\"Male 65+\",\n",
    "    7:\"Female 18-24\",8:\"Female 25-34\",9:\"Female 35-44\",10:\"Female 45-54\",11:\"Female 55-64\",12:\"Female 65+\"\n",
    "}"
   ]
  },
  {
   "cell_type": "code",
   "execution_count": 57,
   "id": "712270a5",
   "metadata": {},
   "outputs": [
    {
     "name": "stdout",
     "output_type": "stream",
     "text": [
      "0     8\n",
      "1     5\n",
      "2     5\n",
      "3     9\n",
      "4     6\n",
      "5     9\n",
      "6    10\n",
      "7     4\n",
      "8     9\n",
      "9     3\n",
      "Name: A3B, dtype: int64\n",
      "(------------------------------)\n",
      "0    Female 25-34\n",
      "1      Male 55-64\n",
      "2      Male 55-64\n",
      "3    Female 35-44\n",
      "4        Male 65+\n",
      "5    Female 35-44\n",
      "6    Female 45-54\n",
      "7      Male 45-54\n",
      "8    Female 35-44\n",
      "9      Male 35-44\n",
      "Name: A3B, dtype: object\n"
     ]
    }
   ],
   "source": [
    "print(df[\"A3B\"].head(10))\n",
    "print(\"(------------------------------)\")\n",
    "df[\"A3B\"] = df[\"A3B\"].map(gender_age_dict)\n",
    "print(df[\"A3B\"].head(10))"
   ]
  }
 ],
 "metadata": {
  "kernelspec": {
   "display_name": "Python 3",
   "language": "python",
   "name": "python3"
  },
  "language_info": {
   "codemirror_mode": {
    "name": "ipython",
    "version": 3
   },
   "file_extension": ".py",
   "mimetype": "text/x-python",
   "name": "python",
   "nbconvert_exporter": "python",
   "pygments_lexer": "ipython3",
   "version": "3.12.6"
  }
 },
 "nbformat": 4,
 "nbformat_minor": 5
}
