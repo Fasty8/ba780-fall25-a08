{
 "cells": [
  {
   "cell_type": "code",
   "execution_count": null,
   "id": "3711e87d",
   "metadata": {},
   "outputs": [],
   "source": [
    "#1.How has financial literacy (FinLit_Level) changed from 2015 to 2021(2015,2018,2021)?\n"
   ]
  },
  {
   "cell_type": "code",
   "execution_count": null,
   "id": "59286943",
   "metadata": {},
   "outputs": [],
   "source": [
    "#2.Does education level affect investment confidence?"
   ]
  },
  {
   "cell_type": "code",
   "execution_count": null,
   "id": "0a15a9ba",
   "metadata": {},
   "outputs": [],
   "source": [
    "#3.What is the relationship between risk tolerance and portfolio composition?\n"
   ]
  },
  {
   "cell_type": "code",
   "execution_count": null,
   "id": "d14abe42",
   "metadata": {},
   "outputs": [],
   "source": [
    "#4.How do age groups differ in their investment confidence and comfort?"
   ]
  },
  {
   "cell_type": "code",
   "execution_count": null,
   "id": "b4bd703d",
   "metadata": {},
   "outputs": [],
   "source": [
    "#5.Which information sources are most used by confident investors?"
   ]
  },
  {
   "cell_type": "code",
   "execution_count": null,
   "id": "e686e91c",
   "metadata": {},
   "outputs": [],
   "source": [
    "#6.Do investors who read financial statements or disclosures report higher fraud-avoidance confidence?"
   ]
  },
  {
   "cell_type": "code",
   "execution_count": null,
   "id": "776e03b0",
   "metadata": {},
   "outputs": [],
   "source": [
    "#7.How do market confidence and risk perception relate to long-term investment behavior?"
   ]
  },
  {
   "cell_type": "code",
   "execution_count": null,
   "id": "d2314277",
   "metadata": {},
   "outputs": [],
   "source": [
    "#8.Which demographic groups have the highest financial knowledge accuracy?"
   ]
  },
  {
   "cell_type": "code",
   "execution_count": null,
   "id": "ee9264ad",
   "metadata": {},
   "outputs": [],
   "source": [
    "#9.How has overall financial literacy (FinLit_Level / Total_Score) changed from 2009 → 2012 → 2024？"
   ]
  },
  {
   "cell_type": "code",
   "execution_count": null,
   "id": "714edcc9",
   "metadata": {},
   "outputs": [],
   "source": [
    "#10.Did households with dependents plan finances differently over time?"
   ]
  },
  {
   "cell_type": "code",
   "execution_count": null,
   "id": "d672f11a",
   "metadata": {},
   "outputs": [],
   "source": [
    "#11.Which income groups improved most in emergency readiness?"
   ]
  },
  {
   "cell_type": "code",
   "execution_count": null,
   "id": "cdeceb26",
   "metadata": {},
   "outputs": [],
   "source": [
    "#12.How do credit behaviors evolve—e.g., late payments, overdrafts, credit-card management?"
   ]
  },
  {
   "cell_type": "code",
   "execution_count": null,
   "id": "d77aaa87",
   "metadata": {},
   "outputs": [],
   "source": [
    "#13.What is the relationship between income drop experience and financial comfort?"
   ]
  },
  {
   "cell_type": "code",
   "execution_count": null,
   "id": "5193e630",
   "metadata": {},
   "outputs": [],
   "source": [
    "#14.Do regional differences (Census Region / State) persist in financial well-being?"
   ]
  },
  {
   "cell_type": "code",
   "execution_count": null,
   "id": "75355549",
   "metadata": {},
   "outputs": [],
   "source": [
    "#15.How does education level relate to financial confidence and behavior across years?"
   ]
  }
 ],
 "metadata": {
  "language_info": {
   "name": "python"
  }
 },
 "nbformat": 4,
 "nbformat_minor": 5
}
