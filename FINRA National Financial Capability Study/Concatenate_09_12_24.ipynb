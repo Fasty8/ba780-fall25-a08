{
 "cells": [
  {
   "cell_type": "code",
   "execution_count": 4,
   "id": "fcc7864b",
   "metadata": {},
   "outputs": [],
   "source": [
    "import pandas as pd\n",
    "\n",
    "# ====== Read each CSV file into a dataframe ======\n",
    "df_2009 = pd.read_csv(\"Cleaned 2009.csv\")\n",
    "df_2012 = pd.read_csv(\"Cleaned 2012.csv\")\n",
    "df_2024 = pd.read_csv(\"Cleaned 2024.csv\")\n",
    "\n",
    "# ====== Concatenate the DataFrames ======\n",
    "Combined_09_12_24 = pd.concat([df_2009, df_2012, df_2024], ignore_index=False)\n",
    "\n",
    "# ====== Save the combined dataframe to a new CSV file =======\n",
    "Combined_09_12_24.to_csv(\"Combined_09_12_24.csv\", index=False)\n"
   ]
  }
 ],
 "metadata": {
  "kernelspec": {
   "display_name": "base",
   "language": "python",
   "name": "python3"
  },
  "language_info": {
   "codemirror_mode": {
    "name": "ipython",
    "version": 3
   },
   "file_extension": ".py",
   "mimetype": "text/x-python",
   "name": "python",
   "nbconvert_exporter": "python",
   "pygments_lexer": "ipython3",
   "version": "3.13.7"
  }
 },
 "nbformat": 4,
 "nbformat_minor": 5
}
